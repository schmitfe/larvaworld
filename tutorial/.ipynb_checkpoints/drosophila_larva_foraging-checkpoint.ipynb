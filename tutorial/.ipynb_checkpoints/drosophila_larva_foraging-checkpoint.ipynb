{
 "cells": [
  {
   "cell_type": "markdown",
   "metadata": {},
   "source": [
    "# Drosophila larva foraging model"
   ]
  },
  {
   "cell_type": "markdown",
   "metadata": {},
   "source": [
    "Following the [whole-organism framework](theoretical_background.ipynb) a model of drosophila larva foraging behavior is presented. The five essential components are described below :\n"
   ]
  },
  {
   "cell_type": "markdown",
   "metadata": {},
   "source": [
    "## 1. Energetics : Drosophila DEB model \n",
    "\n",
    "There has been an adjustment of basic DEB theory for holometabolous insects that incorporates the additional puppa life stage. We used the scal version of this model. Parameters are initially derived from the closest available diptera insect DEB model, the  aedes aegypti mosquito, and calibrated to fit the life-stage transition times and the life-long growth curve of drosophila.\n",
    "\n",
    "**Experimental challenge**\n",
    "\n",
    "A species-specific implementation of DEB for the drosophila is under way. Empirical measurements have to be collected, including at minimum life-stage transition times, growth curve and reproductive rate, for fitting a basic DEB model."
   ]
  },
  {
   "cell_type": "markdown",
   "metadata": {},
   "source": [
    "## 2. Homeostatic interface : Appetitive motivation\n",
    "\n",
    "One of the assumptions of DEB theory is “weak homeostasis”, which means that at a constant food density the ratio of reserves to structure remains constant. This parameter has already been modeled as providing the “search drive” that boosts exploration in starving animals. This is the parameter we will use as well as the interoceptive input/modulation to the nervous system. This modulation affects the nervous system in diverse functional loci :\n",
    "    1. Exploration vs Exploitation balance (Locomotion vs Feeding)\n",
    "    2. Local vs Extended search (Bending vs Crawling)\n",
    "    3. Act vs Rest (Intermittent behavior modulation)"
   ]
  },
  {
   "cell_type": "markdown",
   "metadata": {},
   "source": [
    "### 2.1 Exploration vs Exploitation balance (Locomotion vs Feeding)\n",
    "\n",
    "Exploration and exploitation mobilize the sensorimotor interface (crawling, bending, consuming) in discrete ways with exploitation favoring consumption while exploration favoring dispersal. The balance between the two is modeled continuously as energy investment to consuming and crawling motions respectively.\n",
    "\n",
    "**Empirical constraints  : Literature**\n",
    "\n",
    "Activation of hugin neurons decreases feeding and enhances locomotion though inhibition does not produce the inverse effects. Moreover this balance is not coupled to the frequency of peristaltic strides (Schoofs, 2014)"
   ]
  },
  {
   "cell_type": "markdown",
   "metadata": {},
   "source": [
    "### 2.2 Local vs Extended search\n",
    "\n",
    "Local search favors turning motions while extended search favors straight trajectories. The balance between the two is modeled continuously as energy investment to bending and crawling motions respectively\n",
    "\n",
    "**Empirical constraints  : Literature**\n",
    "\n",
    "A clear transition between local an extended search has not been recorded in drosophila larvae even though it has been confirmed in C.Elegans and adult drosophila."
   ]
  },
  {
   "cell_type": "markdown",
   "metadata": {},
   "source": [
    "### 2.3 Act vs Rest\n",
    "\n",
    "Modulation of inactivity bout distribution, similar to that already recorded for circadian stimulation, is assumed for homeostatic drive.\n",
    "\n",
    "**Empirical constraints  : Literature**\n",
    "\n",
    "Modulation of activity or inactivity bout distributions has not been recorded for drosophila larvae. In contrast similar modulation of inactivity (but not activity) bout distribution has been shown for circadian stimulation, temperature and dopamine neuron activation."
   ]
  },
  {
   "cell_type": "markdown",
   "metadata": {},
   "source": [
    "## 3. Nervous system : Intermittent behavior, exploration, feeding, chemotaxis, olfactory associative learning\n",
    "\n",
    "*Under construction*"
   ]
  },
  {
   "cell_type": "markdown",
   "metadata": {},
   "source": [
    "### 3.1 Intermittent behavior"
   ]
  },
  {
   "cell_type": "markdown",
   "metadata": {},
   "source": [
    "### 3.2 Exploration"
   ]
  },
  {
   "cell_type": "markdown",
   "metadata": {},
   "source": [
    "### 3.3 Feeding"
   ]
  },
  {
   "cell_type": "markdown",
   "metadata": {},
   "source": [
    "### 3.4 Chemotaxis"
   ]
  },
  {
   "cell_type": "markdown",
   "metadata": {},
   "source": [
    "### 3.5 Olfactory associative learning\n",
    "\n"
   ]
  },
  {
   "cell_type": "markdown",
   "metadata": {},
   "source": [
    "## 4. Sensorimotor interface : Crawling,bending,consuming\n",
    "\n",
    "*Under construction*"
   ]
  },
  {
   "cell_type": "markdown",
   "metadata": {},
   "source": [
    "### 4.1 Crawling\n",
    "\n",
    "**Empirical constraints  : Literature**\n",
    "\n",
    "Larvae crawl on the substrate via forward (or reverse) periodic peristaltic strides. They can move faster or slower mainly by regulating the frequency of this periodic behavior, while the displacement achieved by a single stride remains constant (Hecksher,2012). The frequency range within which periodic activity can be maintained can be broadly constrained empirically, e.g. [0.5, 1.7] Hz ([0.3,0.8] Hz for reverse strides) for first instar larvae (Hecksher, 2012), while slower or faster rhythms have not been reported during  any instar stage. The displacement achieved during each complete stride is independent of the frequency and can be expressed as a portion of the total larva length. Reports on this displacement-per-stride parameter are indirect, spanning from 0.14 (Hecksher, 2012) to 0.4 (?), while . During a single forward stride, the velocity oscillation of any body part is stereotyped.  Finally, the stride cycle comprises of two phases, the visceral piston phase when head and tail actively move forward and the peristaltic phase when the rest of the segments move forward via a propagating wave. The former comprises a constant fraction of the entire cycle, e.g. 0.22-0.29 for first instars (Hecksher, 2012).\n",
    "\n",
    "**Empirical constraints  : Data Analysis**\n",
    "\n",
    "**Modeling decisions**\n",
    "\n",
    "Crawling is modeled as an oscillatory process at variable frequency f within a defined range. Depending on the implementation, the oscillatory signal can define the linear velocity / impulse / force of the head / tail / center of mass. A repetitive window of duration T=1/f is used, defining the time course of the chosen parameter during a single stride. The area-under-the-curve of the window is calibrated so that each stride results in a displacement equal to a given fraction of the current body length, defined by the displacement-per-stride parameter. In the simplest case  of linear velocity,  the area-under-the-curve equals the displacement for a single stride.\n",
    "NOTE : Modeling via a temporal window for each stride and not via mere displacement steps allows exploration of coupling and interference between crawling and bending behavior (see Oscillator Interference)\n",
    "\n",
    "**Hypothesis**\n",
    "\n",
    "It is not unreasonable to postulate that the displacement-per-stride parameter changes with larva age/experience/length. Correlation with length would imply a biomechanic mechanism while correlation with experience a motor learning process resulting in more efficient use of the body for locomotion. Another possibility is step-wise change after moulting events. The change of this parameter during larval life stage can be traced easily empirically. The dissociation of the aforementioned underlying mechanisms would be more challenging.\n"
   ]
  },
  {
   "cell_type": "markdown",
   "metadata": {},
   "source": [
    "### 4.2 Bending\n",
    "\n",
    "**Empirical constraints  : Literature**\n",
    "\n",
    "Larvae bend the anterior part of their bodies through asymmetric ipsilateral contraction of their thoracic segments, resulting in a change in subsequent movement direction, therefore a turn in the context of a locomotion trajectory. This asymmetry is generated locally in the ventral cord during exploratory behavior and is independent of downward command signals from the brain (?). In most of the literature, turns are assumed to happen during discrete head-sweep events ,while the larva is stationary, and the turn amplitude is assumed to be normally or uniformly distributed within a given range of angles.  In contrast, empirical evidence recorded during innate chemotaxis  (Wystrach, 2016) suggest a continuous oscillatory process alternating between left and right bends which remains active both during stationary periods and during peristaltic strides. This process produces angular velocity oscillations of mean frequency around 0.3 Hz. This is in line with evidence suggesting common modulation of amplitude and orientation of turns during innate or learned chemotaxis (Thane, 2019).\n",
    "\n",
    "**Empirical constraints  : Data Analysis**\n",
    "\n",
    "**Modeling decisions**\n",
    "\n",
    "Bending is generated via a neural oscillator model introduced in (Wystrach,2016). Under baseline activation the resulting torque oscillations have a given frequency and amplitude. Additional excitatory (inhibitory) modulation shifts the oscillations towards higher (lower) frequency-lower (higher) amplitude torques. Depending on the body implementation, this torque is subsequently applied to the (anterior) body resulting in angular velocity via bending."
   ]
  },
  {
   "cell_type": "markdown",
   "metadata": {},
   "source": [
    "### 4.3 Consuming\n",
    "\n",
    "**Empirical constraints  : Literature**\n",
    "\n",
    "Larvae feed by performing a stereotyped repetitive motor pattern involving mouth hook scooping, head tilt and pharyngeal pumping, of which the two former are also part of the crawling motor pattern and only the latter is specific for feeding. A monosynaptic reflex binds this motor sequence to enteric and somatosensory feedback (Miroschnikow, 2018). The frequency of this oscillation has been reported around 2.7 Hz (Green, 1983).\n",
    "\n",
    "**Modeling decisions**\n",
    "\n",
    "Feeding is modeled as an oscillatory process at variable frequency f within a defined range. Each cycle results in a binary outcome signaling successful or unsuccessful intake of food and modulating the probability of recurrence or transition to locomotion."
   ]
  },
  {
   "cell_type": "markdown",
   "metadata": {},
   "source": [
    "### 4.4 Oscillator interference (Crawling – Bending – Feeding)\n",
    "\n",
    "The repetitive sensorimotor patterns that we described may have overlapping muscular effectors. As a result, a feeding cycle and a peristaltic stride are partially mutually exclusive as they share the head movement phase. Bending is probably not affected by feeding movements while it is probably affected by peristaltic strides.\n",
    "\n",
    "**Hypothesis**\n",
    "\n",
    "The existence of curved paths motivates the hypothesis that bending is possible at least during a fraction of the stride. For a given fraction and a given maximum angular velocity there is a maximum curvature that trajectories can have. This can be traced empirically. One plausible hypothesis would be that bending is possible during the visceral piston phase, when the head is free to move forward, while it is impossible during the rest of the stride when the head is anchored to the substrate. "
   ]
  },
  {
   "cell_type": "markdown",
   "metadata": {},
   "source": [
    "### 4.5 Body\n",
    "\n",
    "The body can either be a massless point moving through space  or a rigid physical body made up one or more longitudinally stacked segments. In all cases the centroid position can be tracked, while in the latter case also the head,tail and segment positions. Linear motion is achieved through generation of speed, impulse or force by crawling while angular motion is effected as torque by bending. Proximity to food sources is sensed at a certain radius around the head position while odor concentration is sensed at that point as well."
   ]
  },
  {
   "cell_type": "markdown",
   "metadata": {},
   "source": [
    "## 5. Environment\n",
    "\n",
    "A 2D continuous spatial environment is simulated at a realistic scale for the larva lengths. Space might contain food sources and impassable boundaries. Larvae do not interact with each other. The only effect one has to another is indirect competition for resources in selected simulations. Odor spatial gradients are implemented either as gaussian distributions or as diffusion processes."
   ]
  },
  {
   "cell_type": "code",
   "execution_count": null,
   "metadata": {},
   "outputs": [],
   "source": []
  }
 ],
 "metadata": {
  "kernelspec": {
   "display_name": "Python 3",
   "language": "python",
   "name": "python3"
  },
  "language_info": {
   "codemirror_mode": {
    "name": "ipython",
    "version": 3
   },
   "file_extension": ".py",
   "mimetype": "text/x-python",
   "name": "python",
   "nbconvert_exporter": "python",
   "pygments_lexer": "ipython3",
   "version": "3.6.9"
  }
 },
 "nbformat": 4,
 "nbformat_minor": 2
}
