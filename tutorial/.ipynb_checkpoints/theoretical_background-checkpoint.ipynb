{
 "cells": [
  {
   "cell_type": "markdown",
   "metadata": {},
   "source": [
    "# Theoretical background : The whole-organism modeling framework\n",
    "\n",
    "An implementation of the framework on drophila foraging behavior can be found [here](drosophila_larva_foraging.ipynb)"
   ]
  },
  {
   "cell_type": "markdown",
   "metadata": {},
   "source": [
    "## Introduction\n",
    "\n",
    "A living organism is an autopoietic system that persists in time, embodied in a physical body and embedded in its habitat. It constantly evades thermodynamic equilibrium by actively maintaining a network of biochemical processes (metabolism) that reassure its (re)generation and reproduction. It accomplishes this by interacting with its environment, exchanging energy/matter, so that it keeps a set of internal parameters  e.g. glucose, O2, CO2 levels, fluid pressure and osmolality etc, within viable boundaries (homeostasis). In this sense, it can be conceptualized as a control system, while its adaptivity determines its degrees of freedom. \n",
    "\n",
    "Discrete subsystems address its cls-regulation and its agential engagement in the face of environmental risks and challenges. Regarding cls-regulation, two main subsystems coordinate processes over the whole body, namely the immune and the endocrine/peptide systems. The former preserves a dynamic boundary between what is part of the cls and what not, while the latter guides adaptation of internal processes to external change, accomplishing allostasis. On the other hand, motile parts, from cilia to muscles, allow e.g. ingestion of food or reproductive performance. Evolution of the nervous system extended both (more specifically mainly the second but also the latter part of the first) allowing faster, more efficient and proactive processes giving rise to behavior. Therefore, the nervous system can be regarded as mediating (by extending them) part of the homeostatic/allostatic control processes of the living metabolism.\n",
    "\n",
    "This approach leads to two operationalizations extremely useful for modeling purposes. Firstly, clusters of processes that have a common homeostatically relevant goal can be regarded as semi-independent subsystems (survival circuits) Such a system integrates both cls-regulation and neurally mediated behavior coordinating dynamic control towards integrity/survival, maintenance/development or reproduction. Secondly, such a system can be dissected into two discrete networks of processes, namely a metabolically-mediated core and a neurally-mediated behavioral extension. These networks interact among themselves and with the environment giving rise to the homeostatic (between metabolism and behavior) and sensorimotor (between behavior and environment) interfaces. Modulation of behavior by metabolic state (homeostatic drive) across the homeostatic interface allows alignment of behavior towards the accomplishment of homeostatic control. Equivalently, body coupling to the environment through nested recursive sensorimotor loops across the sensorimotor interface enables behavioral interactions.\n",
    "\n",
    "Thus, under the whole-organism framework, behavioral modeling, at whatever level of abstraction, can not be considered complete (not in terms of realistic depth but in terms of normative width) if it doesn’t address at least these five elements: metabolism/energetics, homeostatic interface, nervous system, sensorimotor interface and environment. To this end, modeling decisions have to be made regarding each of them, paying special attention to the interfaces, on the one hand, what aspects of behavior are homeostatically modulated and how, on the other how behavior is realized by the body. The main components, namely energetics, nervous system and environment, can then be modeled at  a suitable level of abstraction. This approach yields closed-loop normative models of the behavior serving a defined aspect of autopoiesis, enabling a dynamic mechanistic explanation both in terms of ‘how’ and ‘what for’."
   ]
  },
  {
   "cell_type": "markdown",
   "metadata": {},
   "source": [
    "## Essential components\n",
    "\n",
    "A brief description of the five essential components is provided below. Each of them can be modeled at a different level of abstraction depending on the modeling goals. Moreover different temporal timescales can be integrated e.g. a homeostatically relevant  timescale of hours/days, a behaviorally relevant timescale of seconds and a neurally-relevant timescale of milliseconds."
   ]
  },
  {
   "cell_type": "markdown",
   "metadata": {},
   "source": [
    "### 1. Energetics\n",
    "\n",
    "For the purpose of modeling behavior serving energy/matter exchange or reproduction, a suitable abstraction for the relevant core metabolism network is at the level of energetic flux and investment. Dynamic energy budget (DEB) theory provides a coherent, biologically plausible starting point. \n",
    "\n",
    "According to DEB, the life history (including transitions across subsequent life stages) of an organism can be captured through the dynamics of four state variables (structural volume, energy reserve, maturity investment and reproduction buffer) while its interaction with the world and its cls-regulation is described through the dynamics of energy/mass fluxes (assimilation, mobilization, maturation and maintenance). \n",
    "\n",
    "Realistic, experimentally testable dynamics of life-history traits (e.g. growth curves) can be simulated via species-specific DEB implementations, whose parameters are approximated using experimental observations."
   ]
  },
  {
   "cell_type": "markdown",
   "metadata": {},
   "source": [
    "### 2. Homeostatic Interface\n",
    "\n",
    "The nervous system senses aspects of homeostatic state (or equivalently metabolism modulates aspects of the nervous system) through interoception and neuromodulation. Be it at the level of specific chemical compounds or at the abstract level of balance between global multi-compound chemical signatures,  the nervous system is driven towards/away from certain behavioral patterns. In this context, there are three main questions have to be answered :\n",
    "\n",
    "    1. What aspect of metabolism/energetics is sensed and with what sensitivity and dynamics?\n",
    "    2. What aspect of the nervous system is modulated and with what gain and dynamics?\n",
    "    3. What degrees of freedom does this modulation have, given its bodily realization raises physical constraints?\n",
    "    \n",
    "Assumptions answering these questions guide modeling decisions and define what we call a homeostatic drive function."
   ]
  },
  {
   "cell_type": "markdown",
   "metadata": {},
   "source": [
    "### 3. Nervous system\n",
    "\n",
    "The nervous system can be operationalized as a layered architecture where every higher layer can only minimally alter the dynamics of the underlying ones, meaning with only a few degrees of freedom available relative to the total degrees of freedom of the underlying layers. This approach stems from the fundamentally decentralized nature of the nervous system and from the abundant evidence that simpler behaviors can be carried out by local neural mechanisms even at the absence (lesion/inhibition) of higher order neural components. Therefore, reflexive sensorimotor couplings at the sensorimotor interface are combined into more extended stereotyped reactive loops, these furthermore allowing adaptive inhibition/disinhibition of motor primitives by higher layers. Finally, learning/memory allows persisting long-term behavioral adaptations. \n",
    "\n",
    "The  layered architecture of behavioral processes alongside their underlying neural mechanisms facilitates behavioral modeling as it provides a concrete rule for model evaluation, as instructed by behavior-based robotics : Lower behavioral layers are calibrated and evaluated first and only after their basic performance is established, modulation by higher layers can be implemented."
   ]
  },
  {
   "cell_type": "markdown",
   "metadata": {},
   "source": [
    "### 4. Sensorimotor interface\n",
    "\n",
    "The neurally-controlled body interacts constantly with the environment. The level at which this interaction will be abstracted determines three crucial aspects of the overall model :\n",
    "\n",
    "    1. The environment’s level of abstraction \n",
    "    2. The bottom layer of the nervous system’s layered architecture\n",
    "    3. The body implementation ranging from abstract non-spatial to multi-segment neuromechanically-detailed\n",
    "\n",
    "In other words, the sensorimotor interface determines the basic behavioral patterns that, in the context of the specific model, are considered primitives and can not be dissected further."
   ]
  },
  {
   "cell_type": "markdown",
   "metadata": {},
   "source": [
    "### 5. Environment\n",
    "\n",
    "The environment provides the missing arc for the completion of the closed-loop dynamic model of a behavior, which might otherwise be modeled as a mere input-output half-loop. Therefore it must incorporate the dynamic environmental parameters that are relevant to the behavior. Central questions are :\n",
    "\n",
    "    1. Is space modeled? At what spatial resolution?\n",
    "    2. What is the behavioral temporal resolution ?\n",
    "    3. What modalities are modeled (e.g. olfaction, vision, touch, audition)? At what level of abstraction? With what sensitivity and dynamics?\n",
    "    4. Are other agents modeled (e.g. indirect competition for resources)?\n",
    "    5. Is inter-agent (social) interaction allowed (e.g. communication, direct competition)? "
   ]
  },
  {
   "cell_type": "code",
   "execution_count": null,
   "metadata": {},
   "outputs": [],
   "source": []
  }
 ],
 "metadata": {
  "kernelspec": {
   "display_name": "Python 3",
   "language": "python",
   "name": "python3"
  },
  "language_info": {
   "codemirror_mode": {
    "name": "ipython",
    "version": 3
   },
   "file_extension": ".py",
   "mimetype": "text/x-python",
   "name": "python",
   "nbconvert_exporter": "python",
   "pygments_lexer": "ipython3",
   "version": "3.6.9"
  }
 },
 "nbformat": 4,
 "nbformat_minor": 2
}
